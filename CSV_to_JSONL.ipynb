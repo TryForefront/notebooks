{
  "nbformat": 4,
  "nbformat_minor": 0,
  "metadata": {
    "colab": {
      "name": "CSV to JSONL.ipynb",
      "provenance": [],
      "collapsed_sections": []
    },
    "kernelspec": {
      "name": "python3",
      "display_name": "Python 3"
    },
    "language_info": {
      "name": "python"
    }
  },
  "cells": [
    {
      "cell_type": "markdown",
      "source": [
        "# Convert CSV to JSONL Dataset\n",
        "The following script takes a CSV file and converts it to a JSONL dataset ready for training. There are three steps to using this script:\n",
        "<br>\n",
        "1. Upload CSV file as \"input.csv\".\n",
        "2. Edit \"prompt\" and \"completion\" strings in the second code block to match your task and include your data.\n",
        "3. Execute third code block to read CSV file and convert to JSONL dataset according to your prompt and completion structure.\n",
        "<br>\n",
        "<br>\n",
        "To use data from your CSV file in your prompt and completions, reference the array position of a given column (Column number - 1). For example:\n",
        "<br>\n",
        "row[1] = Column 2\n",
        "<br>\n",
        "row[3] = Column 4\n",
        "<br>\n",
        "row[6] = Column 7"
      ],
      "metadata": {
        "id": "R9XPSd_6BX91"
      }
    },
    {
      "cell_type": "code",
      "source": [
        "import json\n",
        "import csv"
      ],
      "metadata": {
        "id": "0YwIT1Ut1nlc"
      },
      "execution_count": 1,
      "outputs": []
    },
    {
      "cell_type": "code",
      "source": [
        "def csv_to_prompt(rows):\n",
        "  with open('output.txt', 'w') as f:\n",
        "    arr = []\n",
        "    for row in rows:\n",
        "\n",
        "      # EDIT\n",
        "      prompt = f'''Classify the intent of the following message.\n",
        "Message: {row[1]}\n",
        "Intent:'''\n",
        "\n",
        "      # EDIT\n",
        "      completion = f' {row[3]}'\n",
        "\n",
        "      f.write(json.dumps({'prompt': prompt, 'completion': completion}))\n",
        "      f.write('\\n')"
      ],
      "metadata": {
        "id": "J599SDMH7JMq"
      },
      "execution_count": 4,
      "outputs": []
    },
    {
      "cell_type": "code",
      "source": [
        "rows = []\n",
        "arr = []\n",
        "\n",
        "with open(\"input.csv\") as csvfile:\n",
        "    reader = csv.reader(csvfile)\n",
        "    for row in reader:\n",
        "        rows.append(row)\n",
        "    rows.pop(0) # removes title row\n",
        "\n",
        "csv_to_prompt(rows)"
      ],
      "metadata": {
        "id": "hnraWS7Y5x5z"
      },
      "execution_count": null,
      "outputs": []
    }
  ]
}